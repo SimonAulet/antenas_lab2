{
 "cells": [
  {
   "cell_type": "markdown",
   "id": "b68de6ef-8b6d-4f33-b6c0-fdbd68986fd2",
   "metadata": {},
   "source": [
    "# Preprocesado de los archivos medidos\n",
    "Los archivos extraídos del analizador de espectro tienen una cobertura mayor ya que la tornamesa va de -190 a +190 grados con lo cual una partecita está superpuesta. También fué girada en distinto sentido en cada medición. El generador de RF fué configurado a 20dBm"
   ]
  },
  {
   "cell_type": "markdown",
   "id": "db7fd6b1-ec2e-4cec-971c-d22f721067f4",
   "metadata": {
    "jp-MarkdownHeadingCollapsed": true
   },
   "source": [
    "El orden el el siguiente\n",
    "\n",
    "| Número archivo | Polarización | Frecuencia | Pos. inicial | Pos final |\n",
    "|---------------|--------------|------------|--------------|---------------------|\n",
    "| 1 | Directa | 3.1GHz | -190 | +190 |\n",
    "| 2 | Directa | 2.9GHz | +190 | -190 |\n",
    "| 3 | Directa | 2.7GHz | -190 | +190 |\n",
    "| 4 | Cruzada | 2.7GHz | -190 | +190 |\n",
    "| 5 | Cruzada | 2.9GHz | +190 | -190 |\n",
    "| 6 | Cruzada | 3.1GHz | -190 | +190 |"
   ]
  },
  {
   "cell_type": "markdown",
   "id": "5ae7bd2c-3f1f-44dc-b1ed-32fd95a5118f",
   "metadata": {},
   "source": [
    "Preprocesado de archivos para recortar el angulo extra de 10° por lado y espejar las mediciones con la tornamesa en posición inicial positiva y final negativa.<br>\n",
    "Como el disparo de los instrumentos se hizo a mano me doy un margen de 50° para recortar las mediciónes por desvios de error humano"
   ]
  },
  {
   "cell_type": "code",
   "execution_count": null,
   "id": "95f239fb-d470-4817-9012-5e985db5d36b",
   "metadata": {},
   "outputs": [],
   "source": [
    "from scripts.sa_data import SAData, load_sa_data"
   ]
  },
  {
   "cell_type": "code",
   "execution_count": null,
   "id": "40584323-8082-4ad4-9d26-e60b0da92c08",
   "metadata": {},
   "outputs": [],
   "source": [
    "medicion_1 = load_sa_data('./Mediciones/Originales/1ra med 31Ghz.DAT')\n",
    "medicion_2 = load_sa_data('./Mediciones/Originales/2da med 29Ghz.DAT')\n",
    "medicion_3 = load_sa_data('./Mediciones/Originales/3ra med 27Ghz.DAT')\n",
    "medicion_4 = load_sa_data('./Mediciones/Originales/4ta med 27Ghz.DAT')\n",
    "medicion_5 = load_sa_data('./Mediciones/Originales/5ta med 29Ghz cruz.DAT')\n",
    "medicion_6 = load_sa_data('./Mediciones/Originales/6ta med 31Ghz cruz.DAT')\n",
    "medicion_7 = load_sa_data('./Mediciones/Originales/7ma med piso ruido.DAT')"
   ]
  },
  {
   "cell_type": "markdown",
   "id": "72cc7794-91ff-4938-9fdd-ac40bc4a3a8f",
   "metadata": {},
   "source": [
    "## Medicion 1: Polarizacion directa, secuencia directa, 3.1GHz"
   ]
  },
  {
   "cell_type": "code",
   "execution_count": null,
   "id": "ed3fde9f-9aa4-4cec-93fa-4395068481ac",
   "metadata": {},
   "outputs": [],
   "source": [
    "crop_data_1 = medicion_1.plot_superposition(left_shift_deg=15, right_shift_deg=20)"
   ]
  },
  {
   "cell_type": "code",
   "execution_count": null,
   "id": "c638331c-e77f-4446-925c-ae4ec6cb03c1",
   "metadata": {},
   "outputs": [],
   "source": [
    "medicion_1.crop_data(**crop_data_1)"
   ]
  },
  {
   "cell_type": "code",
   "execution_count": null,
   "id": "ee6b5219-2358-4967-8e2c-4329cdd8ce72",
   "metadata": {},
   "outputs": [],
   "source": [
    "medicion_1.set_output_filename('directa_3.1GHz')"
   ]
  },
  {
   "cell_type": "code",
   "execution_count": null,
   "id": "12304da2-034d-4c4d-8b80-07b31ae4f518",
   "metadata": {},
   "outputs": [],
   "source": [
    "medicion_1.save_processed_data(output_dir='Mediciones/')"
   ]
  },
  {
   "cell_type": "markdown",
   "id": "1ae33680-a33d-4a3f-9ec6-af088e412332",
   "metadata": {},
   "source": [
    "## Medicion 2: Polarizacion directa, secuencia espejada, 2.9GHz"
   ]
  },
  {
   "cell_type": "code",
   "execution_count": null,
   "id": "ea3e3d33-0bc0-4c82-9236-3804fef6a765",
   "metadata": {},
   "outputs": [],
   "source": [
    "crop_data_2 = medicion_2.plot_superposition(left_shift_deg=0, right_shift_deg=45)"
   ]
  },
  {
   "cell_type": "code",
   "execution_count": null,
   "id": "e75cd341-1530-4b0d-9f0c-0f216a144ea4",
   "metadata": {},
   "outputs": [],
   "source": [
    "medicion_2.crop_data(**crop_data_2)"
   ]
  },
  {
   "cell_type": "code",
   "execution_count": null,
   "id": "732642c5-a200-491d-8847-e07a6a11d6dc",
   "metadata": {},
   "outputs": [],
   "source": [
    "medicion_2.mirror_data()"
   ]
  },
  {
   "cell_type": "code",
   "execution_count": null,
   "id": "6305734b-a7f3-40b3-a12c-f503eb0cdb43",
   "metadata": {},
   "outputs": [],
   "source": [
    "medicion_2.set_output_filename('directa_2.9GHz')"
   ]
  },
  {
   "cell_type": "code",
   "execution_count": null,
   "id": "67f459ef-4baf-4534-b39c-4d8f4ed428a7",
   "metadata": {},
   "outputs": [],
   "source": [
    "medicion_2.save_processed_data(output_dir='Mediciones/')"
   ]
  },
  {
   "cell_type": "markdown",
   "id": "836b06a6-0a09-4610-866c-4fc53c2e8ede",
   "metadata": {},
   "source": [
    "## Medicion 3: Polarizacion directa, secuencia directa, 2.7GHz"
   ]
  },
  {
   "cell_type": "code",
   "execution_count": null,
   "id": "fccd7ca8-f195-4840-bdd5-fb25faa7b5b2",
   "metadata": {},
   "outputs": [],
   "source": [
    "crop_data_3 = medicion_3.plot_superposition(left_shift_deg=30, right_shift_deg=10)"
   ]
  },
  {
   "cell_type": "code",
   "execution_count": null,
   "id": "abb4fd00-8f04-46ba-a565-5c05a4485c63",
   "metadata": {},
   "outputs": [],
   "source": [
    "medicion_3.crop_data(**crop_data_3)"
   ]
  },
  {
   "cell_type": "code",
   "execution_count": null,
   "id": "d94cde56-e662-4b5b-9b7b-8895d55d4739",
   "metadata": {},
   "outputs": [],
   "source": [
    "medicion_3.set_output_filename('directa_2.7GHz')"
   ]
  },
  {
   "cell_type": "code",
   "execution_count": null,
   "id": "6decf6d2-dfa2-432f-a4a5-241632830698",
   "metadata": {},
   "outputs": [],
   "source": [
    "medicion_3.save_processed_data(output_dir='Mediciones/')"
   ]
  },
  {
   "cell_type": "markdown",
   "id": "6bd62220-9f97-4ab3-8bf4-05b92e37141e",
   "metadata": {},
   "source": [
    "## Medicion 4: Polarizacion cruzada, secuencia directa, 2.7GHz"
   ]
  },
  {
   "cell_type": "code",
   "execution_count": null,
   "id": "76596b8d-7506-48e9-9b10-dff80cb8fbbc",
   "metadata": {},
   "outputs": [],
   "source": [
    "crop_data_4 = medicion_4.plot_superposition(left_shift_deg=0, right_shift_deg=40)"
   ]
  },
  {
   "cell_type": "code",
   "execution_count": null,
   "id": "702dd87e-c7c1-4712-a476-dbbb1b5ce0be",
   "metadata": {},
   "outputs": [],
   "source": [
    "medicion_4.crop_data(**crop_data_4)"
   ]
  },
  {
   "cell_type": "code",
   "execution_count": null,
   "id": "2fc94945-9219-4f45-8b55-301cab81a394",
   "metadata": {},
   "outputs": [],
   "source": [
    "medicion_4.set_output_filename('cruzada_2.7GHz')"
   ]
  },
  {
   "cell_type": "code",
   "execution_count": null,
   "id": "37b9323a-8bac-4d07-b22f-aea7f6d153d8",
   "metadata": {},
   "outputs": [],
   "source": [
    "medicion_4.save_processed_data(output_dir='Mediciones/')"
   ]
  },
  {
   "cell_type": "markdown",
   "id": "3127a326-a616-4827-87d6-e82e830c49c6",
   "metadata": {},
   "source": [
    "## Medicion 5: Polarizacion cruzada, secuencia espejada, 2.9GHz"
   ]
  },
  {
   "cell_type": "code",
   "execution_count": null,
   "id": "07f24624-f475-469f-88c1-8abc0e3e4067",
   "metadata": {},
   "outputs": [],
   "source": [
    "crop_data_5 = medicion_5.plot_superposition(left_shift_deg=15, right_shift_deg=5)"
   ]
  },
  {
   "cell_type": "code",
   "execution_count": null,
   "id": "59d19c00-85f3-47d0-bf05-ccd90bb9d173",
   "metadata": {},
   "outputs": [],
   "source": [
    "medicion_5.crop_data(**crop_data_5)"
   ]
  },
  {
   "cell_type": "code",
   "execution_count": null,
   "id": "fa118246-0f10-4c1d-842e-8ac85f8bf993",
   "metadata": {},
   "outputs": [],
   "source": [
    "medicion_5.mirror_data()"
   ]
  },
  {
   "cell_type": "code",
   "execution_count": null,
   "id": "410e5b6e-39c5-444f-ad16-59a6fbb58b96",
   "metadata": {},
   "outputs": [],
   "source": [
    "medicion_5.set_output_filename('cruzada_2.9GHz')"
   ]
  },
  {
   "cell_type": "code",
   "execution_count": null,
   "id": "1f99fc28-70d7-4dc2-8d5b-172d4115d351",
   "metadata": {},
   "outputs": [],
   "source": [
    "medicion_5.save_processed_data(output_dir='Mediciones/')"
   ]
  },
  {
   "cell_type": "markdown",
   "id": "257f1299-b008-4fbb-866c-4eb3c3aea35e",
   "metadata": {},
   "source": [
    "## Medicion 6: Polarizacion cruzada, secuencia directa, 3.1GHz"
   ]
  },
  {
   "cell_type": "code",
   "execution_count": null,
   "id": "5c2c7e20-6c39-4492-82d1-2aa4aaa03dcc",
   "metadata": {},
   "outputs": [],
   "source": [
    "crop_data_6 = medicion_6.plot_superposition(left_shift_deg=10, right_shift_deg=10)"
   ]
  },
  {
   "cell_type": "code",
   "execution_count": null,
   "id": "0eedd2d0-9136-4ce8-b097-01059da53683",
   "metadata": {},
   "outputs": [],
   "source": [
    "medicion_6.crop_data(**crop_data_6)"
   ]
  },
  {
   "cell_type": "code",
   "execution_count": null,
   "id": "8c29435a-502d-46cc-bcb5-d25fb25814e9",
   "metadata": {},
   "outputs": [],
   "source": [
    "medicion_6.set_output_filename('cruzada_3.1GHz')"
   ]
  },
  {
   "cell_type": "code",
   "execution_count": null,
   "id": "31284681-e876-4b35-8a2a-3e2f4c1d80ec",
   "metadata": {},
   "outputs": [],
   "source": [
    "medicion_6.save_processed_data(output_dir='Mediciones/')"
   ]
  },
  {
   "cell_type": "markdown",
   "id": "25ce301e-3bf5-4208-afb9-10aac77f152f",
   "metadata": {},
   "source": [
    "## Medicion 7 Piso de ruido"
   ]
  },
  {
   "cell_type": "markdown",
   "id": "39c69df4-c504-41a1-a6ed-d50980855d54",
   "metadata": {},
   "source": [
    "Copio directamente archivo renombrandolo a `piso_ruido.DAT`"
   ]
  },
  {
   "cell_type": "markdown",
   "id": "396802c4-11b6-45d5-9ee8-f0bd40d35e4d",
   "metadata": {},
   "source": [
    "# Preprocesado de los archivos simulados\n",
    "\n",
    "Los archivos simulados tienen más información como la fase y el radio axial. Son archivos .txt con una fila por cada grado de medición. Se tienen las componentes $\\theta$ que es el angulo que varía y $\\phi$ que es el angulo fijo. $\\theta$ varía de 0 a 180 y luego de 180 a 0 mientras que $\\phi$ está fijo en 90 para la primer mitad y luego está fijo en 270. Esta variación complica la extracción ya que tengo datos repetidos en el eje $x$. Se llegaría al mismo resultado físico dejando $\\phi$ fijo en 90 y variando $\\theta$ de 0 a 360.<br>\n",
    "Entonces desestimo los valores de $\\theta$ y de $\\phi$ y genero un nuevo indice $t$ para el eje $x$, tomo los valores de $y$ como vienen y luego convierto $t$ a grados para los gráficos, que ya lo tengo implementado. El resultado es el mismo"
   ]
  },
  {
   "cell_type": "markdown",
   "id": "a3a29067-843a-460b-bbb6-4defb9fa551e",
   "metadata": {},
   "source": [
    "Los valores a tomar para tener equivalencias con los archivos medidos son Abs(Horiz)[dBi] como polarización directa y Abs(Verti)[dBi] como polarización cruzada. Relación axial y fase los desestimo.\n",
    "\n",
    "La magnitud de los datos es $dBi$. En el resto de los ploteos uso $dB$ lo cual es poco claro ya que en verdad $dB$ se obtiene normalizando $dBm$. En cualquier caso, para  mantener consistencia, uso $dB$ normalizados los cuales consigo simplemente desplazando $dBi$ con la función ya implementada para $dBm$. No se pierde información. Que práctico es laburar de decibeles por favorrr\n",
    "\n",
    "El campo simulado es el campo magnético $H$ pero como se está en campo lejano y $H$ es proporcional a $E$, al estar los datos normalizados las representaciónes son iguales con lo cual tambien desestimo esto sin problema."
   ]
  },
  {
   "cell_type": "code",
   "execution_count": 1,
   "id": "509c8500-74e6-4a57-aec1-51f205000b89",
   "metadata": {},
   "outputs": [],
   "source": [
    "from scripts.sa_data import SAData, load_sa_data"
   ]
  },
  {
   "cell_type": "markdown",
   "id": "d4443c48-4389-454a-9e9d-d516a74ea339",
   "metadata": {},
   "source": [
    "## Simulaciónes a 2.7GHz"
   ]
  },
  {
   "cell_type": "code",
   "execution_count": 2,
   "id": "9f294894-bf5b-4a6b-a08d-299f013904b9",
   "metadata": {
    "lines_to_next_cell": 2
   },
   "outputs": [],
   "source": [
    "from scripts.txt2dat import load_text_file\n",
    "\n",
    "output_path = load_text_file(\n",
    "    file_path='./simulaciones/originales/Diagrama_2_7GHz_PlanoHorizontal.txt',\n",
    "    output_path='./simulaciones/',\n",
    "    y_col=3, #Abs(horiz)[dBi   ]=pol directa\n",
    "    start_row=3,\n",
    "    end_row=363,\n",
    "    y_unit='dBi',\n",
    "    circular_shift=180\n",
    ")"
   ]
  },
  {
   "cell_type": "code",
   "execution_count": 3,
   "id": "5f856763-82d5-44ab-852e-f66bf92cee9e",
   "metadata": {},
   "outputs": [],
   "source": [
    "!mv ./simulaciones/Diagrama_2_7GHz_PlanoHorizontal.DAT ./simulaciones/directa_2.7GHz.DAT"
   ]
  },
  {
   "cell_type": "code",
   "execution_count": 4,
   "id": "b60693b1-1242-4ba1-a7d6-bb0b3725cbe9",
   "metadata": {
    "lines_to_next_cell": 2
   },
   "outputs": [],
   "source": [
    "from scripts.txt2dat import load_text_file\n",
    "\n",
    "output_path = load_text_file(\n",
    "    file_path='./simulaciones/originales/Diagrama_2_7GHz_PlanoHorizontal.txt',\n",
    "    output_path='./simulaciones/',\n",
    "    y_col=5, #Abs(Verti)[dBi   ]=pol cruzada\n",
    "    start_row=3,\n",
    "    end_row=363,\n",
    "    y_unit='dBi',\n",
    "    circular_shift=180\n",
    ")"
   ]
  },
  {
   "cell_type": "code",
   "execution_count": 5,
   "id": "7a736513-70d2-4001-9a2c-2c552c8c0827",
   "metadata": {},
   "outputs": [],
   "source": [
    "!mv ./simulaciones/Diagrama_2_7GHz_PlanoHorizontal.DAT ./simulaciones/cruzada_2.7GHz.DAT"
   ]
  },
  {
   "cell_type": "markdown",
   "id": "89a953c2-f3fa-4779-80ba-d5f82351ee25",
   "metadata": {},
   "source": [
    "## Simulaciónes a 2.9GHz"
   ]
  },
  {
   "cell_type": "code",
   "execution_count": 6,
   "id": "a3f943ed-b6b2-42d5-a5f7-d8a4248ac5bc",
   "metadata": {
    "lines_to_next_cell": 2
   },
   "outputs": [],
   "source": [
    "from scripts.txt2dat import load_text_file\n",
    "\n",
    "output_path = load_text_file(\n",
    "    file_path='./simulaciones/originales/Diagrama_2_9GHz_PlanoHorizontal.txt',\n",
    "    output_path='./simulaciones/',\n",
    "    y_col=3, #Abs(horiz)[dBi   ]=pol directa\n",
    "    start_row=3,\n",
    "    end_row=363,\n",
    "    y_unit='dBi',\n",
    "    circular_shift=180\n",
    ")"
   ]
  },
  {
   "cell_type": "code",
   "execution_count": 7,
   "id": "6446b16e-5fd8-45b7-a7a3-4d8bc2844b31",
   "metadata": {},
   "outputs": [],
   "source": [
    "!mv ./simulaciones/Diagrama_2_9GHz_PlanoHorizontal.DAT ./simulaciones/directa_2.9GHz.DAT"
   ]
  },
  {
   "cell_type": "code",
   "execution_count": 8,
   "id": "56c1770c-0f29-4c57-9ad7-6a3774fd6085",
   "metadata": {
    "lines_to_next_cell": 2
   },
   "outputs": [],
   "source": [
    "from scripts.txt2dat import load_text_file\n",
    "\n",
    "output_path = load_text_file(\n",
    "    file_path='./simulaciones/originales/Diagrama_2_9GHz_PlanoHorizontal.txt',\n",
    "    output_path='./simulaciones/',\n",
    "    y_col=5, #Abs(Verti)[dBi   ]=pol cruzada\n",
    "    start_row=3,\n",
    "    end_row=363,\n",
    "    y_unit='dBi',\n",
    "    circular_shift=180\n",
    ")"
   ]
  },
  {
   "cell_type": "code",
   "execution_count": 9,
   "id": "8b67e290-60e5-4219-8d8e-7160555b24cf",
   "metadata": {},
   "outputs": [],
   "source": [
    "!mv ./simulaciones/Diagrama_2_9GHz_PlanoHorizontal.DAT ./simulaciones/cruzada_2.9GHz.DAT"
   ]
  },
  {
   "cell_type": "markdown",
   "id": "60ae788d-6348-4774-a508-aa0cca6fa559",
   "metadata": {},
   "source": [
    "## Simulaciónes a 3.1GHz"
   ]
  },
  {
   "cell_type": "code",
   "execution_count": 10,
   "id": "e00ad14c-a5d8-4339-9908-1eca3065c4f4",
   "metadata": {
    "lines_to_next_cell": 2
   },
   "outputs": [],
   "source": [
    "from scripts.txt2dat import load_text_file\n",
    "\n",
    "output_path = load_text_file(\n",
    "    file_path='./simulaciones/originales/Diagrama_3_1GHz_PlanoHorizontal.txt',\n",
    "    output_path='./simulaciones/',\n",
    "    y_col=3, #Abs(horiz)[dBi   ]=pol directa\n",
    "    start_row=3,\n",
    "    end_row=363,\n",
    "    y_unit='dBi',\n",
    "    circular_shift=180\n",
    ")"
   ]
  },
  {
   "cell_type": "code",
   "execution_count": 11,
   "id": "bbfe66d0-d8a9-4147-918a-e7d7bf30b4a6",
   "metadata": {},
   "outputs": [],
   "source": [
    "!mv ./simulaciones/Diagrama_3_1GHz_PlanoHorizontal.DAT ./simulaciones/directa_3.1GHz.DAT"
   ]
  },
  {
   "cell_type": "code",
   "execution_count": 12,
   "id": "56b0349f-4d47-419f-a599-5a041ef55479",
   "metadata": {
    "lines_to_next_cell": 2
   },
   "outputs": [],
   "source": [
    "from scripts.txt2dat import load_text_file\n",
    "\n",
    "output_path = load_text_file(\n",
    "    file_path='./simulaciones/originales/Diagrama_3_1GHz_PlanoHorizontal.txt',\n",
    "    output_path='./simulaciones/',\n",
    "    y_col=5, #Abs(Verti)[dBi   ]=pol cruzada\n",
    "    start_row=3,\n",
    "    end_row=363,\n",
    "    y_unit='dBi',\n",
    "    circular_shift=180\n",
    ")"
   ]
  },
  {
   "cell_type": "code",
   "execution_count": 13,
   "id": "37d3b526-1f5e-44ab-8492-217d0f787a75",
   "metadata": {},
   "outputs": [],
   "source": [
    "!mv ./simulaciones/Diagrama_3_1GHz_PlanoHorizontal.DAT ./simulaciones/cruzada_3.1GHz.DAT"
   ]
  }
 ],
 "metadata": {
  "jupytext": {
   "formats": "ipynb,py:percent"
  },
  "kernelspec": {
   "display_name": "Python 3 (ipykernel)",
   "language": "python",
   "name": "python3"
  },
  "language_info": {
   "codemirror_mode": {
    "name": "ipython",
    "version": 3
   },
   "file_extension": ".py",
   "mimetype": "text/x-python",
   "name": "python",
   "nbconvert_exporter": "python",
   "pygments_lexer": "ipython3",
   "version": "3.12.11"
  }
 },
 "nbformat": 4,
 "nbformat_minor": 5
}
